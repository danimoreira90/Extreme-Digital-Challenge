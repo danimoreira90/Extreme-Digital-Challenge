{
 "cells": [
  {
   "cell_type": "code",
   "execution_count": 2,
   "metadata": {},
   "outputs": [],
   "source": [
    "import pandas as pd\n",
    "from sqlalchemy import create_engine\n",
    "import openmeteo_requests\n",
    "\n",
    "# Para manipular requisições e tentativas de reconexão\n",
    "import requests_cache\n",
    "from retry_requests import retry\n"
   ]
  },
  {
   "cell_type": "code",
   "execution_count": 3,
   "metadata": {},
   "outputs": [],
   "source": [
    "# Configuração de cache e mecanismo de retentativa\n",
    "cache_session = requests_cache.CachedSession('.cache', expire_after=3600)\n",
    "retry_session = retry(cache_session, retries=5, backoff_factor=0.2)\n",
    "openmeteo = openmeteo_requests.Client(session=retry_session)\n"
   ]
  },
  {
   "cell_type": "code",
   "execution_count": 4,
   "metadata": {},
   "outputs": [],
   "source": [
    "# Definição da localização e parâmetros para a requisição API\n",
    "params = {\n",
    "    \"latitude\": -22.9068,  # Latitude do Rio de Janeiro\n",
    "    \"longitude\": -43.1729,  # Longitude do Rio de Janeiro\n",
    "    \"hourly\": [\"pressure_msl\"],  # Solicitando a pressão atmosférica média ao nível do mar por hora\n",
    "    \"start\": pd.Timestamp.now().strftime('%Y-%m-%d'),  # Data de início\n",
    "    \"end\": (pd.Timestamp.now() + pd.Timedelta(days=7)).strftime('%Y-%m-%d'),  # Data final, 7 dias a partir de agora\n",
    "    \"timezone\": \"America/Sao_Paulo\"  # Fuso horário local\n",
    "}"
   ]
  },
  {
   "cell_type": "code",
   "execution_count": 5,
   "metadata": {},
   "outputs": [],
   "source": [
    "# Realização da requisição à API\n",
    "responses = openmeteo.weather_api(\"https://api.open-meteo.com/v1/forecast\", params=params)\n",
    "response = responses[0]  # Assumindo resposta de uma única localização\n"
   ]
  },
  {
   "cell_type": "code",
   "execution_count": 6,
   "metadata": {},
   "outputs": [],
   "source": [
    "# Extração dos dados de pressão\n",
    "hourly = response.Hourly()\n",
    "pressure_values = hourly.Variables(0).ValuesAsNumpy()  # Supondo que a pressão seja a primeira variável solicitada\n",
    "\n",
    "# Criação de um DataFrame\n",
    "hourly_data = {\n",
    "    \"momento\": pd.date_range(\n",
    "        start=pd.to_datetime(hourly.Time(), unit=\"s\", utc=True),\n",
    "        end=pd.to_datetime(hourly.TimeEnd(), unit=\"s\", utc=True),\n",
    "        freq=pd.Timedelta(seconds=hourly.Interval()),\n",
    "        inclusive=\"left\"\n",
    "    ),\n",
    "    \"valor\": pressure_values\n",
    "}\n",
    "df = pd.DataFrame(hourly_data)\n",
    "df['id'] = df.index + 1\n"
   ]
  },
  {
   "cell_type": "code",
   "execution_count": null,
   "metadata": {},
   "outputs": [
    {
     "name": "stdout",
     "output_type": "stream",
     "text": [
      "Dados armazenados com sucesso!\n"
     ]
    },
    {
     "ename": "",
     "evalue": "",
     "output_type": "error",
     "traceback": [
      "\u001b[1;31mThe Kernel crashed while executing code in the current cell or a previous cell. \n",
      "\u001b[1;31mPlease review the code in the cell(s) to identify a possible cause of the failure. \n",
      "\u001b[1;31mClick <a href='https://aka.ms/vscodeJupyterKernelCrash'>here</a> for more info. \n",
      "\u001b[1;31mView Jupyter <a href='command:jupyter.viewOutput'>log</a> for further details."
     ]
    }
   ],
   "source": [
    "# Ordenação dos dados pelo momento\n",
    "df = df.sort_values('momento')\n",
    "\n",
    "# Reordenando as colunas para corresponder à ordem: id, momento, valor\n",
    "df = df[['id', 'momento', 'valor']]\n",
    "\n",
    "# Conexão com o banco de dados usando SQLAlchemy\n",
    "engine = create_engine('sqlite:///weather_data.db')  # Ajuste conforme a configuração de sua conexão\n",
    "\n",
    "# Armazenamento dos dados na tabela\n",
    "df.to_sql('previsao_pressao_atm', con=engine, if_exists='append', index=False)\n",
    "print(\"Dados armazenados com sucesso!\")"
   ]
  }
 ],
 "metadata": {
  "kernelspec": {
   "display_name": "Python 3",
   "language": "python",
   "name": "python3"
  },
  "language_info": {
   "codemirror_mode": {
    "name": "ipython",
    "version": 3
   },
   "file_extension": ".py",
   "mimetype": "text/x-python",
   "name": "python",
   "nbconvert_exporter": "python",
   "pygments_lexer": "ipython3",
   "version": "3.11.2"
  }
 },
 "nbformat": 4,
 "nbformat_minor": 2
}
