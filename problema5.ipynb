{
 "cells": [
  {
   "cell_type": "markdown",
   "metadata": {},
   "source": [
    "# **Problema 5:**"
   ]
  },
  {
   "cell_type": "code",
   "execution_count": 3,
   "metadata": {},
   "outputs": [],
   "source": [
    "import sqlite3\n",
    "import pandas as pd"
   ]
  },
  {
   "cell_type": "markdown",
   "metadata": {},
   "source": [
    "## **Leitura e inserção dos dados para PROCEDIMENTOS (TB_PROCEDIMENTO)**"
   ]
  },
  {
   "cell_type": "code",
   "execution_count": 2,
   "metadata": {},
   "outputs": [],
   "source": [
    "# Caminho dos arquivos\n",
    "layout_path = r'D:\\Pastas\\Extreme Digital\\sigtap-simplificado\\tb_procedimento_layout.txt'\n",
    "data_path = r'D:\\Pastas\\Extreme Digital\\sigtap-simplificado\\tb_procedimento.txt'\n",
    "\n",
    "# Ler o layout\n",
    "layout_df = pd.read_csv(layout_path)\n",
    "\n",
    "# Conectar ao banco de dados SQLite\n",
    "conn = sqlite3.connect('sigtap.db')\n",
    "cursor = conn.cursor()"
   ]
  },
  {
   "cell_type": "code",
   "execution_count": 3,
   "metadata": {},
   "outputs": [],
   "source": [
    "# Criar comando SQL para criar a tabela\n",
    "create_table_sql = 'CREATE TABLE IF NOT EXISTS TB_PROCEDIMENTO ('\n",
    "create_table_sql += ', '.join([f\"{row['Coluna']} {row['Tipo']}\" for index, row in layout_df.iterrows()])\n",
    "create_table_sql += ');'"
   ]
  },
  {
   "cell_type": "code",
   "execution_count": 4,
   "metadata": {},
   "outputs": [
    {
     "name": "stdout",
     "output_type": "stream",
     "text": [
      "Tabela TB_PROCEDIMENTO criada com sucesso.\n"
     ]
    }
   ],
   "source": [
    "# Executar o comando para criar a tabela\n",
    "cursor.execute(create_table_sql)\n",
    "conn.commit()\n",
    "\n",
    "print(\"Tabela TB_PROCEDIMENTO criada com sucesso.\")"
   ]
  },
  {
   "cell_type": "code",
   "execution_count": null,
   "metadata": {},
   "outputs": [],
   "source": [
    "#Ler o arquivo de dados e inserir na tabela\n",
    "\n",
    "def process_line(line, layout):\n",
    "    values = []\n",
    "    for _, row in layout.iterrows():\n",
    "        start_index = row['Inicio'] - 1  # Ajuste de índice Python (base 0)\n",
    "        end_index = row['Fim']\n",
    "        value = line[start_index:end_index].strip()\n",
    "        if row['Tipo'].startswith('VARCHAR'):\n",
    "            values.append(f\"'{value}'\")  # Adiciona aspas para valores VARCHAR\n",
    "        else:\n",
    "            values.append(value)\n",
    "    return values"
   ]
  },
  {
   "cell_type": "code",
   "execution_count": 6,
   "metadata": {},
   "outputs": [
    {
     "name": "stdout",
     "output_type": "stream",
     "text": [
      "Dados inseridos com sucesso.\n"
     ]
    }
   ],
   "source": [
    "# Ler o arquivo de dados\n",
    "with open(data_path, 'r') as file:\n",
    "    lines = file.readlines()\n",
    "\n",
    "# Inserir dados na tabela\n",
    "for line in lines:\n",
    "    values = process_line(line, layout_df)\n",
    "    insert_sql = f\"INSERT INTO TB_PROCEDIMENTO VALUES ({', '.join(values)});\"\n",
    "    cursor.execute(insert_sql)\n",
    "\n",
    "conn.commit()\n",
    "print(\"Dados inseridos com sucesso.\")\n",
    "conn.close()"
   ]
  },
  {
   "cell_type": "markdown",
   "metadata": {},
   "source": [
    "## **Leitura e inserção dos dados para SUB GRUPO (TB_SUB_GRUPO)**"
   ]
  },
  {
   "cell_type": "code",
   "execution_count": 1,
   "metadata": {},
   "outputs": [],
   "source": [
    "# Caminho dos arquivos\n",
    "layout_path_sub_grupo = r'D:\\Pastas\\Extreme Digital\\sigtap-simplificado\\tb_sub_grupo_layout.txt'\n",
    "data_path_sub_grupo = r'D:\\Pastas\\Extreme Digital\\sigtap-simplificado\\tb_sub_grupo.txt'"
   ]
  },
  {
   "cell_type": "code",
   "execution_count": 4,
   "metadata": {},
   "outputs": [],
   "source": [
    "# Ler o layout para sub grupo\n",
    "layout_df_sub_grupo = pd.read_csv(layout_path_sub_grupo)\n",
    "\n",
    "# Conectar ao banco de dados SQLite existente\n",
    "conn = sqlite3.connect('sigtap.db')\n",
    "cursor = conn.cursor()\n",
    "\n",
    "# Criar comando SQL para criar a tabela TB_SUB_GRUPO\n",
    "create_table_sql_sub_grupo = 'CREATE TABLE IF NOT EXISTS TB_SUB_GRUPO ('\n",
    "create_table_sql_sub_grupo += ', '.join([f\"{row['Coluna']} {row['Tipo']}\" for index, row in layout_df_sub_grupo.iterrows()])\n",
    "create_table_sql_sub_grupo += ');'\n"
   ]
  },
  {
   "cell_type": "code",
   "execution_count": null,
   "metadata": {},
   "outputs": [
    {
     "name": "stdout",
     "output_type": "stream",
     "text": [
      "Tabela TB_SUB_GRUPO criada com sucesso.\n",
      "Dados inseridos com sucesso na tabela TB_SUB_GRUPO.\n"
     ]
    }
   ],
   "source": [
    "# Executar o comando para criar a tabela TB_SUB_GRUPO\n",
    "cursor.execute(create_table_sql_sub_grupo)\n",
    "conn.commit()\n",
    "\n",
    "print(\"Tabela TB_SUB_GRUPO criada com sucesso.\")\n",
    "\n",
    "#Ler o arquivo de dados e inserir na tabela TB_SUB_GRUPO\n",
    "\n",
    "def process_line_sub_grupo(line, layout):\n",
    "    values = []\n",
    "    for _, row in layout.iterrows():\n",
    "        start_index = row['Inicio'] - 1  # Ajuste de índice Python (base 0)\n",
    "        end_index = row['Fim']\n",
    "        value = line[start_index:end_index].strip()\n",
    "        if row['Tipo'].startswith('VARCHAR') or row['Tipo'] == 'CHAR':\n",
    "            values.append(f\"'{value}'\")  # Adiciona aspas para valores VARCHAR e CHAR\n",
    "        else:\n",
    "            values.append(value)\n",
    "    return values\n",
    "\n",
    "# Ler o arquivo de dados para sub grupo\n",
    "with open(data_path_sub_grupo, 'r') as file:\n",
    "    lines = file.readlines()\n",
    "\n",
    "# Inserir dados na tabela TB_SUB_GRUPO\n",
    "for line in lines:\n",
    "    values = process_line_sub_grupo(line, layout_df_sub_grupo)\n",
    "    insert_sql_sub_grupo = f\"INSERT INTO TB_SUB_GRUPO VALUES ({', '.join(values)});\"\n",
    "    cursor.execute(insert_sql_sub_grupo)\n",
    "\n",
    "conn.commit()\n",
    "print(\"Dados inseridos com sucesso na tabela TB_SUB_GRUPO.\")\n",
    "conn.close()"
   ]
  },
  {
   "cell_type": "markdown",
   "metadata": {},
   "source": [
    "## **Leitura e inserção de dados para GRUPO (TB_GRUPO)**"
   ]
  },
  {
   "cell_type": "code",
   "execution_count": null,
   "metadata": {},
   "outputs": [
    {
     "name": "stdout",
     "output_type": "stream",
     "text": [
      "Tabela TB_GRUPO criada com sucesso.\n",
      "Dados inseridos com sucesso na tabela TB_GRUPO.\n"
     ]
    }
   ],
   "source": [
    "# Caminho dos arquivos\n",
    "layout_path_grupo = r'D:\\Pastas\\Extreme Digital\\sigtap-simplificado\\tb_grupo_layout.txt'\n",
    "data_path_grupo = r'D:\\Pastas\\Extreme Digital\\sigtap-simplificado\\tb_grupo.txt'\n",
    "\n",
    "# Ler o layout para grupo\n",
    "layout_df_grupo = pd.read_csv(layout_path_grupo)\n",
    "\n",
    "# Conectar ao banco de dados SQLite existente\n",
    "conn = sqlite3.connect('sigtap.db')\n",
    "cursor = conn.cursor()\n",
    "\n",
    "# Criar comando SQL para criar a tabela TB_GRUPO\n",
    "create_table_sql_grupo = 'CREATE TABLE IF NOT EXISTS TB_GRUPO ('\n",
    "create_table_sql_grupo += ', '.join([f\"{row['Coluna']} {row['Tipo']}\" for index, row in layout_df_grupo.iterrows()])\n",
    "create_table_sql_grupo += ');'\n",
    "\n",
    "# Executar o comando para criar a tabela TB_GRUPO\n",
    "cursor.execute(create_table_sql_grupo)\n",
    "conn.commit()\n",
    "\n",
    "print(\"Tabela TB_GRUPO criada com sucesso.\")\n",
    "\n",
    "#Ler o arquivo de dados e inserir na tabela TB_GRUPO\n",
    "\n",
    "def process_line_grupo(line, layout):\n",
    "    values = []\n",
    "    for _, row in layout.iterrows():\n",
    "        start_index = row['Inicio'] - 1  # Ajuste de índice Python (base 0)\n",
    "        end_index = row['Fim']\n",
    "        value = line[start_index:end_index].strip()\n",
    "        if row['Tipo'].startswith('VARCHAR') or row['Tipo'] == 'CHAR':\n",
    "            values.append(f\"'{value}'\")  # Adiciona aspas para valores VARCHAR e CHAR\n",
    "        else:\n",
    "            values.append(value)\n",
    "    return values\n",
    "\n",
    "# Ler o arquivo de dados para grupo\n",
    "with open(data_path_grupo, 'r') as file:\n",
    "    lines = file.readlines()\n",
    "\n",
    "# Inserir dados na tabela TB_GRUPO\n",
    "for line in lines:\n",
    "    values = process_line_grupo(line, layout_df_grupo)\n",
    "    insert_sql_grupo = f\"INSERT INTO TB_GRUPO VALUES ({', '.join(values)});\"\n",
    "    cursor.execute(insert_sql_grupo)\n",
    "\n",
    "conn.commit()\n",
    "print(\"Dados inseridos com sucesso na tabela TB_GRUPO.\")\n",
    "conn.close()"
   ]
  },
  {
   "cell_type": "markdown",
   "metadata": {},
   "source": [
    "## **Leitura e inserção de dados para FORMA ORGANIZAÇÃO (TB_FORMA_ORGANIZAÇÃO)**"
   ]
  },
  {
   "cell_type": "code",
   "execution_count": null,
   "metadata": {},
   "outputs": [
    {
     "name": "stdout",
     "output_type": "stream",
     "text": [
      "Tabela TB_FORMA_ORGANIZACAO criada com sucesso.\n",
      "Dados inseridos com sucesso na tabela TB_FORMA_ORGANIZACAO.\n"
     ]
    }
   ],
   "source": [
    "# Caminho dos arquivos\n",
    "layout_path_forma_organizacao = r'D:\\Pastas\\Extreme Digital\\sigtap-simplificado\\tb_forma_organizacao_layout.txt'\n",
    "data_path_forma_organizacao = r'D:\\Pastas\\Extreme Digital\\sigtap-simplificado\\tb_forma_organizacao.txt'\n",
    "\n",
    "# Ler o layout para forma de organização\n",
    "layout_df_forma_organizacao = pd.read_csv(layout_path_forma_organizacao)\n",
    "\n",
    "# Conectar ao banco de dados SQLite existente\n",
    "conn = sqlite3.connect('sigtap.db')\n",
    "cursor = conn.cursor()\n",
    "\n",
    "# Criar comando SQL para criar a tabela TB_FORMA_ORGANIZACAO\n",
    "create_table_sql_forma_organizacao = 'CREATE TABLE IF NOT EXISTS TB_FORMA_ORGANIZACAO ('\n",
    "create_table_sql_forma_organizacao += ', '.join([f\"{row['Coluna']} {row['Tipo']}\" for index, row in layout_df_forma_organizacao.iterrows()])\n",
    "create_table_sql_forma_organizacao += ');'\n",
    "\n",
    "# Executar o comando para criar a tabela TB_FORMA_ORGANIZACAO\n",
    "cursor.execute(create_table_sql_forma_organizacao)\n",
    "conn.commit()\n",
    "\n",
    "print(\"Tabela TB_FORMA_ORGANIZACAO criada com sucesso.\")\n",
    "\n",
    "#Ler o arquivo de dados e inserir na tabela TB_FORMA_ORGANIZACAO\n",
    "\n",
    "def process_line_forma_organizacao(line, layout):\n",
    "    values = []\n",
    "    for _, row in layout.iterrows():\n",
    "        start_index = row['Inicio'] - 1  # Ajuste de índice Python (base 0)\n",
    "        end_index = row['Fim']\n",
    "        value = line[start_index:end_index].strip()\n",
    "        if row['Tipo'].startswith('VARCHAR') or row['Tipo'] == 'CHAR':\n",
    "            values.append(f\"'{value}'\")  # Adiciona aspas para valores VARCHAR e CHAR\n",
    "        else:\n",
    "            values.append(value)\n",
    "    return values\n",
    "\n",
    "# Ler o arquivo de dados para forma de organização\n",
    "with open(data_path_forma_organizacao, 'r') as file:\n",
    "    lines = file.readlines()\n",
    "\n",
    "# Inserir dados na tabela TB_FORMA_ORGANIZACAO\n",
    "for line in lines:\n",
    "    values = process_line_forma_organizacao(line, layout_df_forma_organizacao)\n",
    "    insert_sql_forma_organizacao = f\"INSERT INTO TB_FORMA_ORGANIZACAO VALUES ({', '.join(values)});\"\n",
    "    cursor.execute(insert_sql_forma_organizacao)\n",
    "\n",
    "conn.commit()\n",
    "print(\"Dados inseridos com sucesso na tabela TB_FORMA_ORGANIZACAO.\")\n",
    "conn.close()"
   ]
  },
  {
   "cell_type": "markdown",
   "metadata": {},
   "source": [
    "## **Leitura e inserção de dados para CID (TB_CID)**"
   ]
  },
  {
   "cell_type": "code",
   "execution_count": null,
   "metadata": {},
   "outputs": [
    {
     "name": "stdout",
     "output_type": "stream",
     "text": [
      "Tabela TB_CID criada com sucesso.\n",
      "Dados inseridos com sucesso na tabela TB_CID.\n"
     ]
    }
   ],
   "source": [
    "# Caminho dos arquivos\n",
    "layout_path_cid = r'D:\\Pastas\\Extreme Digital\\sigtap-simplificado\\tb_cid_layout.txt'\n",
    "data_path_cid = r'D:\\Pastas\\Extreme Digital\\sigtap-simplificado\\tb_cid.txt'\n",
    "\n",
    "# Ler o layout para CID\n",
    "layout_df_cid = pd.read_csv(layout_path_cid)\n",
    "\n",
    "# Conectar ao banco de dados SQLite existente\n",
    "conn = sqlite3.connect('sigtap.db')\n",
    "cursor = conn.cursor()\n",
    "\n",
    "# Criar comando SQL para criar a tabela TB_CID\n",
    "create_table_sql_cid = 'CREATE TABLE IF NOT EXISTS TB_CID ('\n",
    "create_table_sql_cid += ', '.join([f\"{row['Coluna']} {row['Tipo']}\" for index, row in layout_df_cid.iterrows()])\n",
    "create_table_sql_cid += ');'\n",
    "\n",
    "# Executar o comando para criar a tabela TB_CID\n",
    "cursor.execute(create_table_sql_cid)\n",
    "conn.commit()\n",
    "\n",
    "print(\"Tabela TB_CID criada com sucesso.\")\n",
    "\n",
    "#Ler o arquivo de dados e inserir na tabela TB_CID\n",
    "\n",
    "def process_line_cid(line, layout):\n",
    "    values = []\n",
    "    for _, row in layout.iterrows():\n",
    "        start_index = row['Inicio'] - 1  # Ajuste de índice Python (base 0)\n",
    "        end_index = row['Fim']\n",
    "        value = line[start_index:end_index].strip()\n",
    "        if row['Tipo'].startswith('VARCHAR') or row['Tipo'] == 'CHAR':\n",
    "            values.append(f\"'{value}'\")  # Adiciona aspas para valores VARCHAR e CHAR\n",
    "        else:\n",
    "            values.append(value)\n",
    "    return values\n",
    "\n",
    "# Ler o arquivo de dados para CID\n",
    "with open(data_path_cid, 'r') as file:\n",
    "    lines = file.readlines()\n",
    "\n",
    "# Inserir dados na tabela TB_CID\n",
    "for line in lines:\n",
    "    values = process_line_cid(line, layout_df_cid)\n",
    "    insert_sql_cid = f\"INSERT INTO TB_CID VALUES ({', '.join(values)});\"\n",
    "    cursor.execute(insert_sql_cid)\n",
    "\n",
    "conn.commit()\n",
    "print(\"Dados inseridos com sucesso na tabela TB_CID.\")\n",
    "conn.close()"
   ]
  }
 ],
 "metadata": {
  "kernelspec": {
   "display_name": "Python 3",
   "language": "python",
   "name": "python3"
  },
  "language_info": {
   "codemirror_mode": {
    "name": "ipython",
    "version": 3
   },
   "file_extension": ".py",
   "mimetype": "text/x-python",
   "name": "python",
   "nbconvert_exporter": "python",
   "pygments_lexer": "ipython3",
   "version": "3.11.2"
  }
 },
 "nbformat": 4,
 "nbformat_minor": 2
}
