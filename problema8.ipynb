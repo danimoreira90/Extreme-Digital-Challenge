{
 "cells": [
  {
   "cell_type": "markdown",
   "metadata": {},
   "source": [
    "# **Problema 8:**"
   ]
  },
  {
   "cell_type": "markdown",
   "metadata": {},
   "source": [
    "\n",
    "Supondo que também haja uma tabela `TB_ATENDIMENTOS` que registra o tipo de cada atendimento. Aqui está uma possível estrutura para essa tabela:\n",
    "\n",
    "- `TB_ATENDIMENTOS`\n",
    "  - `ID_ATENDIMENTO`: ID do atendimento.\n",
    "  - `TIPO_ATENDIMENTO`: Tipo do atendimento (I, U, A).\n",
    "\n",
    "Primeiro, é necessário juntar as tabelas `TB_ATENDIMENTOS` e `ATENDIMENTO_PRESCRICAO` para associar cada prescrição ao seu tipo de atendimento, e depois calcular a média de medicamentos prescritos para os atendimentos do tipo 'U'.\n",
    "\n",
    "Query SQL para realizar isso:\n",
    "\n",
    "```sql\n",
    "SELECT AVG(Prescricoes_Por_Atendimento.quantidade_prescricoes) AS media_prescricoes\n",
    "FROM (\n",
    "    SELECT id_atend, COUNT(id_prescricao) AS quantidade_prescricoes\n",
    "    FROM ATENDIMENTO_PRESCRICAO\n",
    "    JOIN TB_ATENDIMENTOS ON ATENDIMENTO_PRESCRICAO.id_atend = TB_ATENDIMENTOS.ID_ATENDIMENTO\n",
    "    WHERE TB_ATENDIMENTOS.TIPO_ATENDIMENTO = 'U'\n",
    "    GROUP BY id_atend\n",
    ") AS Prescricoes_Por_Atendimento;\n",
    "```\n",
    "\n",
    "### Explicação da Consulta:\n",
    "1. **Subconsulta (`Prescricoes_Por_Atendimento`)**:\n",
    "    - A subconsulta junta a tabela `ATENDIMENTO_PRESCRICAO` com a tabela `TB_ATENDIMENTOS` para obter apenas as prescrições dos atendimentos do tipo 'U'.\n",
    "    - Agrupa os resultados por `id_atend` (identificador do atendimento) para contar o número de prescrições para cada atendimento de urgência.\n",
    "\n",
    "2. **Consulta Externa**:\n",
    "    - Calcula a média (`AVG`) das contagens de prescrições obtidas pela subconsulta, produzindo o resultado desejado.\n",
    "\n",
    "Esta consulta assume que você tem acesso às tabelas e que a tabela `TB_ATENDIMENTOS` inclui uma coluna `TIPO_ATENDIMENTO` que contém os tipos de atendimento como 'I', 'U' e 'A'."
   ]
  }
 ],
 "metadata": {
  "language_info": {
   "name": "python"
  }
 },
 "nbformat": 4,
 "nbformat_minor": 2
}
