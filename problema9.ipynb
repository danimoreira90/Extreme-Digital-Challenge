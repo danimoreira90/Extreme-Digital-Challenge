{
 "cells": [
  {
   "cell_type": "markdown",
   "metadata": {},
   "source": [
    "# **Problema 9:**"
   ]
  },
  {
   "cell_type": "markdown",
   "metadata": {},
   "source": [
    "Para implementar um programa em Python que verifique se uma prescrição de medicamentos pode ser totalmente satisfeita com os medicamentos disponíveis em estoque, será necessário utilizar a contagem de frequências de cada medicamento nas duas sequências e comparar. \n",
    "\n",
    "**Dividindo em etapas para melhor implementação do script:**\n",
    "\n",
    " - Contar as ocorrências de cada medicamento na prescrição.\n",
    " - Contar as ocorrências de cada medicamento no estoque.\n",
    " - Comparar as contagens: Para cada medicamento na prescrição, verificar se a quantidade disponível no estoque é suficiente.\n",
    "\n",
    "**Implementação do processo:**"
   ]
  },
  {
   "cell_type": "code",
   "execution_count": 1,
   "metadata": {},
   "outputs": [
    {
     "name": "stdout",
     "output_type": "stream",
     "text": [
      "False\n",
      "False\n",
      "True\n",
      "True\n"
     ]
    }
   ],
   "source": [
    "def can_fulfill_prescription(prescription, stock):\n",
    "    from collections import Counter\n",
    "\n",
    "    # Contagem dos medicamentos na prescrição e no estoque\n",
    "    prescription_counts = Counter(prescription)\n",
    "    stock_counts = Counter(stock)\n",
    "    \n",
    "    # Verificar se cada medicamento na prescrição está disponível em quantidade suficiente no estoque\n",
    "    for med, count in prescription_counts.items():\n",
    "        if stock_counts[med] < count:\n",
    "            return False\n",
    "    return True\n",
    "\n",
    "# Exemplos de uso da função\n",
    "print(can_fulfill_prescription('a', 'b'))  # Deve retornar False\n",
    "print(can_fulfill_prescription('aa', 'b'))  # Deve retornar False\n",
    "print(can_fulfill_prescription('aa', 'aab'))  # Deve retornar True\n",
    "print(can_fulfill_prescription('aba', 'cbaa'))  # Deve retornar True\n"
   ]
  },
  {
   "cell_type": "markdown",
   "metadata": {},
   "source": [
    "\n",
    "\n",
    "### Explicação do Código:\n",
    "\n",
    "- **Counter**: A classe `Counter` do módulo `collections` é usada para contar as frequências de cada letra (medicamento) nas strings fornecidas. Ela cria um dicionário onde as chaves são os itens contados e os valores são suas respectivas contagens.\n",
    "- **Loop de Verificação**: O loop itera sobre cada medicamento prescrito e verifica se a quantidade no estoque é suficiente, comparando as contagens da prescrição com as do estoque. Se algum medicamento na prescrição tem uma contagem maior que no estoque, a função retorna `False`. Se todas as contagens são adequadas, a função retorna `True`.\n"
   ]
  }
 ],
 "metadata": {
  "kernelspec": {
   "display_name": "Python 3",
   "language": "python",
   "name": "python3"
  },
  "language_info": {
   "codemirror_mode": {
    "name": "ipython",
    "version": 3
   },
   "file_extension": ".py",
   "mimetype": "text/x-python",
   "name": "python",
   "nbconvert_exporter": "python",
   "pygments_lexer": "ipython3",
   "version": "3.11.2"
  }
 },
 "nbformat": 4,
 "nbformat_minor": 2
}
